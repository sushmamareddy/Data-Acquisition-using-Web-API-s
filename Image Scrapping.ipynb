{
 "cells": [
  {
   "cell_type": "code",
   "execution_count": 4,
   "metadata": {},
   "outputs": [],
   "source": [
    "import bs4\n",
    "import html5lib\n",
    "import requests"
   ]
  },
  {
   "cell_type": "code",
   "execution_count": 5,
   "metadata": {},
   "outputs": [],
   "source": [
    "url = \"https://www.passiton.com/inspirational-quotes\""
   ]
  },
  {
   "cell_type": "code",
   "execution_count": 6,
   "metadata": {},
   "outputs": [],
   "source": [
    "response = requests.get(url)"
   ]
  },
  {
   "cell_type": "code",
   "execution_count": 7,
   "metadata": {},
   "outputs": [],
   "source": [
    "soup=bs4.BeautifulSoup(response.content)"
   ]
  },
  {
   "cell_type": "code",
   "execution_count": 14,
   "metadata": {},
   "outputs": [],
   "source": [
    "element_find= soup.findAll('div',{'class' : 'col-6 col-lg-3 text-center margin-30px-bottom sm-margin-30px-top'})"
   ]
  },
  {
   "cell_type": "code",
   "execution_count": 15,
   "metadata": {},
   "outputs": [],
   "source": [
    "element = element_find[0]"
   ]
  },
  {
   "cell_type": "code",
   "execution_count": 16,
   "metadata": {},
   "outputs": [
    {
     "data": {
      "text/plain": [
       "<div class=\"col-6 col-lg-3 text-center margin-30px-bottom sm-margin-30px-top\">\n",
       "<a href=\"/inspirational-quotes/8107-a-walk-in-nature-walks-the-soul-back-home\"><img alt=\"A walk in nature, walks the soul back home. #&lt;Author:0x00007f4b6df7fed0&gt;\" class=\"margin-10px-bottom shadow\" height=\"310\" src=\"https://assets.passiton.com/quotes/quote_artwork/8107/medium/20200811_tuesday_quote.jpg?1596663032\" width=\"310\"/></a>\n",
       "<h5 class=\"value_on_red\"><a href=\"/inspirational-quotes/8107-a-walk-in-nature-walks-the-soul-back-home\">APPRECIATING NATURE</a></h5>\n",
       "</div>"
      ]
     },
     "execution_count": 16,
     "metadata": {},
     "output_type": "execute_result"
    }
   ],
   "source": [
    "element"
   ]
  },
  {
   "cell_type": "code",
   "execution_count": 25,
   "metadata": {},
   "outputs": [],
   "source": [
    "image =element.img"
   ]
  },
  {
   "cell_type": "code",
   "execution_count": 29,
   "metadata": {},
   "outputs": [
    {
     "data": {
      "text/plain": [
       "{'alt': 'A walk in nature, walks the soul back home. #<Author:0x00007f4b6df7fed0>',\n",
       " 'class': ['margin-10px-bottom', 'shadow'],\n",
       " 'src': 'https://assets.passiton.com/quotes/quote_artwork/8107/medium/20200811_tuesday_quote.jpg?1596663032',\n",
       " 'width': '310',\n",
       " 'height': '310'}"
      ]
     },
     "execution_count": 29,
     "metadata": {},
     "output_type": "execute_result"
    }
   ],
   "source": [
    "image.attrs"
   ]
  },
  {
   "cell_type": "code",
   "execution_count": 33,
   "metadata": {},
   "outputs": [],
   "source": [
    "ima=image.attrs['src']"
   ]
  },
  {
   "cell_type": "code",
   "execution_count": 34,
   "metadata": {},
   "outputs": [],
   "source": [
    "with open('inspiration.jpg','wb') as f:\n",
    "    response=requests.get(ima)\n",
    "    f.write(response.content)"
   ]
  },
  {
   "cell_type": "code",
   "execution_count": 35,
   "metadata": {},
   "outputs": [],
   "source": [
    "for i,ele in enumerate(element_find):\n",
    "    with open('./scrapped_images/inspiration{}.jpg'.format(i+1),'wb') as f:\n",
    "        url=ele.img.attrs['src']\n",
    "        response = requests.get(url)\n",
    "        f.write(response.content)"
   ]
  },
  {
   "cell_type": "code",
   "execution_count": null,
   "metadata": {},
   "outputs": [],
   "source": []
  }
 ],
 "metadata": {
  "kernelspec": {
   "display_name": "Python 3",
   "language": "python",
   "name": "python3"
  },
  "language_info": {
   "codemirror_mode": {
    "name": "ipython",
    "version": 3
   },
   "file_extension": ".py",
   "mimetype": "text/x-python",
   "name": "python",
   "nbconvert_exporter": "python",
   "pygments_lexer": "ipython3",
   "version": "3.7.4"
  }
 },
 "nbformat": 4,
 "nbformat_minor": 2
}
